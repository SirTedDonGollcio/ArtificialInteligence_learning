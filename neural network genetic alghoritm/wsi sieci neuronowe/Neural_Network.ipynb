{
 "cells": [
  {
   "cell_type": "markdown",
   "id": "408e4417",
   "metadata": {},
   "source": [
    "# WSI lab. 5 Sztuczne sieci neuronowe\n",
    "\n",
    "Jakub Płudowski 300464, Tadeusz Golczyk 300531, Prowadzący ćwiczenia mgr. inż. Jakub Łyskawa"
   ]
  },
  {
   "cell_type": "markdown",
   "id": "c032c5d8",
   "metadata": {},
   "source": [
    "## Importing needed libraries"
   ]
  },
  {
   "cell_type": "code",
   "execution_count": 97,
   "id": "6f85e348",
   "metadata": {},
   "outputs": [],
   "source": [
    "from sklearn import datasets, svm, metrics\n",
    "from sklearn.model_selection import train_test_split\n",
    "import numpy as np\n",
    "import matplotlib.pyplot as plt\n",
    "from sklearn.metrics import confusion_matrix, ConfusionMatrixDisplay, roc_curve, auc"
   ]
  },
  {
   "cell_type": "markdown",
   "id": "06ae0c01",
   "metadata": {},
   "source": [
    "## Defining personal parameters for the algorithm\n",
    "The below variables are responsible for certain parameters:\n",
    "- digits - imported dataset of pictures 8x8 pixels which represent numbers (MNIST datasets)\n",
    "- n_samples - amount of pictures in MNIST dataset\n",
    "- nr_of_parameters - number of connections from input neurons to hidden neurons\n",
    "- nr_of_hidden_neurons - number of hidden neurons in network\n",
    "- data - reshaped info about images, that are being formatted from 2-dimensional vectors [8x8] to 1-dimensional vectors [1x64]\n",
    "- epochs - the amount of epochs that would be used to teach the network\n",
    "- learning_rate - the step with which the weight of the neurons connections are being changed"
   ]
  },
  {
   "cell_type": "code",
   "execution_count": 98,
   "id": "9b0f2080",
   "metadata": {},
   "outputs": [],
   "source": [
    "digits = datasets.load_digits()\n",
    "n_samples = len(digits.images)\n",
    "nr_of_parameters = 64\n",
    "nr_of_hidden_neurons = 32\n",
    "data = digits.images.reshape((n_samples, -1))\n",
    "\n",
    "np.random.seed(300464)\n",
    "epochs = 10\n",
    "learning_rate = 0.1"
   ]
  },
  {
   "cell_type": "markdown",
   "id": "0ab7bcc8",
   "metadata": {},
   "source": [
    "## Dividing dataset for learning, testing, and validating parts\n",
    "Whole datasets are being divided for training dataset, which contains 90% of the possessed images, and validating and testing datasets which are being randomly chosen 10% of the original dataset."
   ]
  },
  {
   "cell_type": "code",
   "execution_count": 99,
   "id": "b95f1921",
   "metadata": {},
   "outputs": [],
   "source": [
    "input_train, input_test, output_train, output_test = train_test_split(\n",
    "    data, digits.target, test_size=0.1, shuffle=True\n",
    ")\n",
    "input_train, input_vali, output_train, output_vali = train_test_split(\n",
    "    input_train, output_train, test_size=0.1, shuffle=True\n",
    ")"
   ]
  },
  {
   "cell_type": "markdown",
   "id": "7ba544d3",
   "metadata": {},
   "source": [
    "## Function used to evaluate the algorithm\n",
    "In the algorithm, the 3 function are being used:\n",
    " - code_label(number) - this function is being used to translate the digits (which are being given by the argument \"number\") to the vector of 10 probabilities, which represent the probability that given number is being certain digit, so the function translate the digit for 100% probability of being this number, and 0% for being every other digit. This whole process is being used to easier compare results with output of the network, which are analogically - the probabilities for certain pictures to represent a certain digits.\n",
    " - activation(x) - the function of activation to calculate the value for the neurons in this network. In this certain network the function of activation is Sigmoid function.\n",
    " - dt_activation(array) - the derivative of the activation function."
   ]
  },
  {
   "cell_type": "code",
   "execution_count": 100,
   "id": "65dd5b6d",
   "metadata": {},
   "outputs": [],
   "source": [
    "def code_label(number):\n",
    "    label = np.zeros((10))\n",
    "    label[number] = 1\n",
    "    return label\n",
    "\n",
    "def activation(x):\n",
    "    return 1/(1+ np.exp(-x))\n",
    "\n",
    "def dt_activation(array):\n",
    "    return [(np.exp(-x)/((np.exp(-x)+1)**2)) for x in array]"
   ]
  },
  {
   "cell_type": "markdown",
   "id": "df7da1fe",
   "metadata": {},
   "source": [
    "## Function to validate the network\n",
    "This function is being used to compare the error (which is being calculated based on the verification dataset) of predicting the output of the network, which is being checked after every epoch, to the real values of the label of certain piece of dataset. The function get as an arguments the parameters of the nodes \"parameters1\", \"parameters2\" to  recreate the network, and the validation dataset \"test_input\" with validation labeles \"test_output\"."
   ]
  },
  {
   "cell_type": "code",
   "execution_count": 101,
   "id": "b1491e7e",
   "metadata": {},
   "outputs": [],
   "source": [
    "def validate_network(parameters1, parameters2, test_input, test_output):\n",
    "    #assert len(test_input) == len(test_output)\n",
    "    complex_error = np.ones(len(test_input))/len(test_input)\n",
    "    #for test_idx, input_array in enumerate(test_input):\n",
    "    for iteration in range(len(test_input)):\n",
    "        input_array = test_input[iteration]\n",
    "        hidden_stimulation = np.matmul(parameters1,input_array)\n",
    "        hidden_output = [activation(x) for x in (hidden_stimulation)]\n",
    "        output_stimulation = np.matmul(parameters2, hidden_output)\n",
    "        output = [activation(x) for x in (output_stimulation)]\n",
    "        \n",
    "        complex_error[iteration] = np.mean(0.5*(np.subtract(code_label(test_output[iteration]), output)**2)/len(test_input))\n",
    "        \n",
    "    return np.sum(complex_error)"
   ]
  },
  {
   "cell_type": "markdown",
   "id": "5dbe0371",
   "metadata": {},
   "source": [
    "## Function to teach the network\n",
    "The network is first randomizing a small value (around 1e-4) for the starting parameters. Then the network is being taught with every piece of the dataset, and repeated for every epoch. Teaching is being done by multiplying the started values (every value from the start vector from the dataset has a certain starting neuron) by the values of the weight of the parameters. These values are being used as input values for the activation function. Output from this function is added from every neuron that is entering the hidden neuron, and then the sum of this is the value of this neuron. The process is repeated afterward to obtain the output values of the neurons, which are later on interpreted as the probability of being element (in this case the possibility of the input picture to represent a certain number). The highest probability is being chosen, and this is the prediction of the network. The mean squared error of the prediction is being calculated later on based on the known value of the input from the label dataset. The value of the weights of the parameters are being afterward changed, based on the value of the error, so the error would be smaller in the next iteration.\n",
    "After teaching, the plot of the error in each iteration and each epoch is being represented on the plot.\n",
    "This function has the following arguments:\n",
    "- nr_of_inputs - amount of the pieces in the learning dataset,\n",
    "- nr_of_outputs - number of the outputs from the network,\n",
    "- nr_of_hidden_neurons - number of the neurons in the hidden layer of the neurons,\n",
    "- lr - step of changing of the value of the weight parameters between the neurons,\n",
    "- nr_of_epochs - number of the epochs for teaching,\n",
    "- train_input - dataset for learning,\n",
    "- train_output - labels for dataset for learning,\n",
    "- vali_input - dataset for validating,\n",
    "- vali_output - labels for dataset for validating."
   ]
  },
  {
   "cell_type": "code",
   "execution_count": 102,
   "id": "9d624075",
   "metadata": {
    "scrolled": true
   },
   "outputs": [],
   "source": [
    "def train_network(nr_of_inputs, nr_of_outputs, nr_of_hidden_neurons, lr, nr_of_epochs, train_input, train_output, vali_input, vali_output):\n",
    "    parameters1 = np.random.rand(nr_of_hidden_neurons, nr_of_inputs)*0.0001\n",
    "    parameters2 = np.random.rand(nr_of_outputs, nr_of_hidden_neurons)*0.0001\n",
    "    \n",
    "    loss_function = []\n",
    "    validation_loss =[]\n",
    "    complex_error = np.ones(len(train_input))/len(train_input)\n",
    "    for epoch in range(nr_of_epochs):\n",
    "        for iteration in range(len(train_input)):\n",
    "            #random_number = np.random.randint(len(train_input))\n",
    "            input_array = train_input[iteration]\n",
    "            input_label = code_label(train_output[iteration])\n",
    "            hidden_stimulation = np.matmul(parameters1,input_array)\n",
    "            hidden_output = [activation(x) for x in (hidden_stimulation)]\n",
    "            output_stimulation = np.matmul(parameters2, hidden_output)\n",
    "            output = [activation(x) for x in (output_stimulation)]\n",
    "\n",
    "            output_error =(np.subtract(input_label, output))* (np.array(dt_activation(output_stimulation)))\n",
    "            hidden_error = (np.array(dt_activation(hidden_stimulation))) * sum(np.multiply(parameters2, output_error[np.newaxis].T))\n",
    "            \n",
    "            \n",
    "            dp2 = np.matmul((np.array(output_error)[np.newaxis].T), np.array(hidden_output)[np.newaxis])*lr\n",
    "            dp1 = np.matmul((np.array(hidden_error)[np.newaxis].T), (np.array(input_array)[np.newaxis]))*lr\n",
    "            parameters2 = parameters2 + dp2\n",
    "            parameters1 = parameters1 + dp1\n",
    "\n",
    "            complex_error[iteration] = np.mean(0.5*(np.subtract(input_label, output)**2)/len(train_input))\n",
    "            loss_function.append(sum(complex_error))\n",
    "        validation_loss.append(validate_network(parameters1,parameters2,vali_input,vali_output))\n",
    "\n",
    "    \n",
    "    X = range(len(train_input)*nr_of_epochs)\n",
    "    X_e = range(0,len(train_input)*nr_of_epochs,len(train_input))\n",
    "    plt.plot(X, loss_function, '*')\n",
    "    plt.plot(X_e, validation_loss, \"*\")\n",
    "    plt.show()\n",
    "    \n",
    "    #print(validation_loss)\n",
    "    return parameters1, parameters2\n",
    "\n",
    "    \n"
   ]
  },
  {
   "cell_type": "markdown",
   "id": "3eb7baeb",
   "metadata": {},
   "source": [
    "## Implementation of the teaching of the network"
   ]
  },
  {
   "cell_type": "code",
   "execution_count": 103,
   "id": "e0f4f1a4",
   "metadata": {},
   "outputs": [
    {
     "data": {
      "image/png": "[encoded data removed]",
      "text/plain": [
       "<Figure size 432x288 with 1 Axes>"
      ]
     },
     "metadata": {
      "needs_background": "light"
     },
     "output_type": "display_data"
    }
   ],
   "source": [
    "p1,p2 = train_network(nr_of_parameters, 10, nr_of_hidden_neurons, learning_rate, 5, input_train, output_train, input_vali, output_vali) "
   ]
  },
  {
   "cell_type": "markdown",
   "id": "b78adebe",
   "metadata": {},
   "source": [
    "## Function to test the network\n",
    "This function is being used to compare the error (which is being calculated based on the testing dataset) of predicting the output of the network to the real values of the label of certain piece of dataset. The function get as an arguments the parameters of the nodes \"parameters1\", \"parameters2\" to recreate the network, and the validation dataset \"test_input\" with validation labeles \"test_output\"."
   ]
  },
  {
   "cell_type": "code",
   "execution_count": 104,
   "id": "249bb25e",
   "metadata": {},
   "outputs": [],
   "source": [
    "def test_network(parameters1, parameters2, test_input, test_output):\n",
    "    labels = []\n",
    "    predictions =[]\n",
    "    for test_idx, input_array in enumerate(test_input):\n",
    "        hidden_stimulation = np.matmul(parameters1,input_array)\n",
    "        hidden_output = [activation(x) for x in (hidden_stimulation)]\n",
    "        output_stimulation = np.matmul(parameters2, hidden_output)\n",
    "        output = [activation(x) for x in (output_stimulation)]\n",
    "        \n",
    "        labels.append(test_output[test_idx])\n",
    "        predictions.append(np.argmax(output))\n",
    "        error = np.mean(0.5*(np.subtract(test_output[test_idx], output)**2)/len(test_input))\n",
    "    return labels, predictions\n",
    "    \n",
    "    \n",
    "    "
   ]
  },
  {
   "cell_type": "markdown",
   "id": "f5a5c8b0",
   "metadata": {},
   "source": [
    "## Implementation of the testing of the network"
   ]
  },
  {
   "cell_type": "code",
   "execution_count": 105,
   "id": "a26ef75a",
   "metadata": {},
   "outputs": [],
   "source": [
    "labels, predictions = test_network(p1,p2, input_test, output_test)"
   ]
  },
  {
   "cell_type": "markdown",
   "id": "99f0ef16",
   "metadata": {},
   "source": [
    "## Creating the Confusion Matrix\n",
    "The confusion matrix neatly represent which element sould have been predicted from the testing dataset, and which element was actually predicted."
   ]
  },
  {
   "cell_type": "code",
   "execution_count": 106,
   "id": "30a56cb8",
   "metadata": {},
   "outputs": [
    {
     "data": {
      "image/png": "[encoded data removed]",
      "text/plain": [
       "<Figure size 432x288 with 2 Axes>"
      ]
     },
     "metadata": {
      "needs_background": "light"
     },
     "output_type": "display_data"
    }
   ],
   "source": [
    "matrix = confusion_matrix(labels, predictions)\n",
    "disp = ConfusionMatrixDisplay(confusion_matrix=matrix)\n",
    "disp.plot()\n",
    "plt.title('Confusion Matrix')\n",
    "plt.show()"
   ]
  }
 ],
 "metadata": {
  "kernelspec": {
   "display_name": "Python 3",
   "language": "python",
   "name": "python3"
  },
  "language_info": {
   "codemirror_mode": {
    "name": "ipython",
    "version": 3
   },
   "file_extension": ".py",
   "mimetype": "text/x-python",
   "name": "python",
   "nbconvert_exporter": "python",
   "pygments_lexer": "ipython3",
   "version": "3.8.8"
  }
 },
 "nbformat": 4,
 "nbformat_minor": 5
}
